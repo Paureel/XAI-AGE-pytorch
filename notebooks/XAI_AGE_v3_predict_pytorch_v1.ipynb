{
  "cells": [
    {
      "cell_type": "markdown",
      "id": "4a75d914-835e-4858-ba46-5befbebaf3ed",
      "metadata": {
        "id": "4a75d914-835e-4858-ba46-5befbebaf3ed"
      },
      "source": [
        "# Predict with XAI-AGE - example\n",
        "\n",
        "\n",
        "\n"
      ]
    },
    {
      "cell_type": "markdown",
      "source": [
        "Connect your drive and load the data (XAI-AGE related data is available here: https://drive.google.com/drive/folders/1Geq3l28xagnDpKuI5Ip-OFYLzdY_e5hO?usp=sharing)"
      ],
      "metadata": {
        "id": "Gs-57dyTVUJ-"
      },
      "id": "Gs-57dyTVUJ-"
    },
    {
      "cell_type": "code",
      "source": [
        "# Optimized for Colab-PRO. Free tier Colab can cause out of memory errors."
      ],
      "metadata": {
        "id": "_MC3Id0oRIxX"
      },
      "id": "_MC3Id0oRIxX",
      "execution_count": 11,
      "outputs": []
    },
    {
      "cell_type": "code",
      "execution_count": 1,
      "id": "bD7Yj712Azs4",
      "metadata": {
        "colab": {
          "base_uri": "https://localhost:8080/"
        },
        "id": "bD7Yj712Azs4",
        "outputId": "7f21fc8e-77fb-415b-9336-5768e7d0bae9"
      },
      "outputs": [
        {
          "output_type": "stream",
          "name": "stdout",
          "text": [
            "Mounted at /content/drive\n"
          ]
        }
      ],
      "source": [
        "# Connect to your google drive to download the XAI-AGE model related files\n",
        "from google.colab import drive\n",
        "drive.mount('/content/drive')"
      ]
    },
    {
      "cell_type": "code",
      "execution_count": 2,
      "id": "_QZYRbLnCCJq",
      "metadata": {
        "id": "_QZYRbLnCCJq",
        "colab": {
          "base_uri": "https://localhost:8080/"
        },
        "outputId": "2bdcee46-e71d-4b5a-9cca-efac96b00d87"
      },
      "outputs": [
        {
          "output_type": "stream",
          "name": "stdout",
          "text": [
            "Cloning into 'pnet'...\n",
            "remote: Enumerating objects: 1664, done.\u001b[K\n",
            "remote: Counting objects: 100% (507/507), done.\u001b[K\n",
            "remote: Compressing objects: 100% (291/291), done.\u001b[K\n",
            "remote: Total 1664 (delta 283), reused 417 (delta 214), pack-reused 1157\u001b[K\n",
            "Receiving objects: 100% (1664/1664), 122.73 MiB | 32.26 MiB/s, done.\n",
            "Resolving deltas: 100% (899/899), done.\n"
          ]
        }
      ],
      "source": [
        "!git clone https://github.com/Paureel/pnet.git"
      ]
    },
    {
      "cell_type": "code",
      "execution_count": 3,
      "id": "BV2-G-q4BoLu",
      "metadata": {
        "id": "BV2-G-q4BoLu"
      },
      "outputs": [],
      "source": [
        "!cp /content/drive/MyDrive/xaiage/AGE.zip /content/pnet/data/"
      ]
    },
    {
      "cell_type": "code",
      "execution_count": 4,
      "id": "onQs7kIKo1tE",
      "metadata": {
        "colab": {
          "base_uri": "https://localhost:8080/"
        },
        "id": "onQs7kIKo1tE",
        "outputId": "261767c3-c0c0-4df4-981d-af265da24fcf"
      },
      "outputs": [
        {
          "output_type": "stream",
          "name": "stdout",
          "text": [
            "/content/pnet\n"
          ]
        }
      ],
      "source": [
        "%cd pnet"
      ]
    },
    {
      "cell_type": "code",
      "execution_count": 5,
      "id": "fijOqjoRjRL5",
      "metadata": {
        "colab": {
          "base_uri": "https://localhost:8080/"
        },
        "id": "fijOqjoRjRL5",
        "outputId": "d99c5997-cdf7-46d0-888e-a0a3a6e840c1"
      },
      "outputs": [
        {
          "output_type": "stream",
          "name": "stdout",
          "text": [
            "Obtaining file:///content/pnet\n",
            "  Preparing metadata (setup.py) ... \u001b[?25l\u001b[?25hdone\n",
            "Installing collected packages: pnet\n",
            "  Running setup.py develop for pnet\n",
            "Successfully installed pnet-0.1.0\n"
          ]
        }
      ],
      "source": [
        "!pip install -e ."
      ]
    },
    {
      "cell_type": "code",
      "execution_count": 6,
      "id": "Cm6bdtnLigLf",
      "metadata": {
        "colab": {
          "base_uri": "https://localhost:8080/"
        },
        "id": "Cm6bdtnLigLf",
        "outputId": "25659b29-6183-439d-bc3c-f2280741dd37"
      },
      "outputs": [
        {
          "output_type": "stream",
          "name": "stdout",
          "text": [
            "Collecting torchmetrics==1.3.0.post0\n",
            "  Downloading torchmetrics-1.3.0.post0-py3-none-any.whl (840 kB)\n",
            "\u001b[2K     \u001b[90m━━━━━━━━━━━━━━━━━━━━━━━━━━━━━━━━━━━━━━━━\u001b[0m \u001b[32m840.2/840.2 kB\u001b[0m \u001b[31m10.4 MB/s\u001b[0m eta \u001b[36m0:00:00\u001b[0m\n",
            "\u001b[?25hCollecting pytorch-lightning==2.2.0\n",
            "  Downloading pytorch_lightning-2.2.0-py3-none-any.whl (800 kB)\n",
            "\u001b[2K     \u001b[90m━━━━━━━━━━━━━━━━━━━━━━━━━━━━━━━━━━━━━━━━\u001b[0m \u001b[32m800.3/800.3 kB\u001b[0m \u001b[31m16.8 MB/s\u001b[0m eta \u001b[36m0:00:00\u001b[0m\n",
            "\u001b[?25hCollecting captum==0.7.0\n",
            "  Downloading captum-0.7.0-py3-none-any.whl (1.3 MB)\n",
            "\u001b[2K     \u001b[90m━━━━━━━━━━━━━━━━━━━━━━━━━━━━━━━━━━━━━━━━\u001b[0m \u001b[32m1.3/1.3 MB\u001b[0m \u001b[31m23.4 MB/s\u001b[0m eta \u001b[36m0:00:00\u001b[0m\n",
            "\u001b[?25hRequirement already satisfied: numpy>1.20.0 in /usr/local/lib/python3.10/dist-packages (from torchmetrics==1.3.0.post0) (1.25.2)\n",
            "Requirement already satisfied: packaging>17.1 in /usr/local/lib/python3.10/dist-packages (from torchmetrics==1.3.0.post0) (24.0)\n",
            "Requirement already satisfied: torch>=1.10.0 in /usr/local/lib/python3.10/dist-packages (from torchmetrics==1.3.0.post0) (2.2.1+cu121)\n",
            "Collecting lightning-utilities>=0.8.0 (from torchmetrics==1.3.0.post0)\n",
            "  Downloading lightning_utilities-0.11.2-py3-none-any.whl (26 kB)\n",
            "Requirement already satisfied: tqdm>=4.57.0 in /usr/local/lib/python3.10/dist-packages (from pytorch-lightning==2.2.0) (4.66.4)\n",
            "Requirement already satisfied: PyYAML>=5.4 in /usr/local/lib/python3.10/dist-packages (from pytorch-lightning==2.2.0) (6.0.1)\n",
            "Requirement already satisfied: fsspec[http]>=2022.5.0 in /usr/local/lib/python3.10/dist-packages (from pytorch-lightning==2.2.0) (2023.6.0)\n",
            "Requirement already satisfied: typing-extensions>=4.4.0 in /usr/local/lib/python3.10/dist-packages (from pytorch-lightning==2.2.0) (4.11.0)\n",
            "Requirement already satisfied: matplotlib in /usr/local/lib/python3.10/dist-packages (from captum==0.7.0) (3.7.1)\n",
            "Requirement already satisfied: requests in /usr/local/lib/python3.10/dist-packages (from fsspec[http]>=2022.5.0->pytorch-lightning==2.2.0) (2.31.0)\n",
            "Requirement already satisfied: aiohttp!=4.0.0a0,!=4.0.0a1 in /usr/local/lib/python3.10/dist-packages (from fsspec[http]>=2022.5.0->pytorch-lightning==2.2.0) (3.9.5)\n",
            "Requirement already satisfied: setuptools in /usr/local/lib/python3.10/dist-packages (from lightning-utilities>=0.8.0->torchmetrics==1.3.0.post0) (67.7.2)\n",
            "Requirement already satisfied: filelock in /usr/local/lib/python3.10/dist-packages (from torch>=1.10.0->torchmetrics==1.3.0.post0) (3.14.0)\n",
            "Requirement already satisfied: sympy in /usr/local/lib/python3.10/dist-packages (from torch>=1.10.0->torchmetrics==1.3.0.post0) (1.12)\n",
            "Requirement already satisfied: networkx in /usr/local/lib/python3.10/dist-packages (from torch>=1.10.0->torchmetrics==1.3.0.post0) (3.3)\n",
            "Requirement already satisfied: jinja2 in /usr/local/lib/python3.10/dist-packages (from torch>=1.10.0->torchmetrics==1.3.0.post0) (3.1.3)\n",
            "Collecting nvidia-cuda-nvrtc-cu12==12.1.105 (from torch>=1.10.0->torchmetrics==1.3.0.post0)\n",
            "  Using cached nvidia_cuda_nvrtc_cu12-12.1.105-py3-none-manylinux1_x86_64.whl (23.7 MB)\n",
            "Collecting nvidia-cuda-runtime-cu12==12.1.105 (from torch>=1.10.0->torchmetrics==1.3.0.post0)\n",
            "  Using cached nvidia_cuda_runtime_cu12-12.1.105-py3-none-manylinux1_x86_64.whl (823 kB)\n",
            "Collecting nvidia-cuda-cupti-cu12==12.1.105 (from torch>=1.10.0->torchmetrics==1.3.0.post0)\n",
            "  Using cached nvidia_cuda_cupti_cu12-12.1.105-py3-none-manylinux1_x86_64.whl (14.1 MB)\n",
            "Collecting nvidia-cudnn-cu12==8.9.2.26 (from torch>=1.10.0->torchmetrics==1.3.0.post0)\n",
            "  Using cached nvidia_cudnn_cu12-8.9.2.26-py3-none-manylinux1_x86_64.whl (731.7 MB)\n",
            "Collecting nvidia-cublas-cu12==12.1.3.1 (from torch>=1.10.0->torchmetrics==1.3.0.post0)\n",
            "  Using cached nvidia_cublas_cu12-12.1.3.1-py3-none-manylinux1_x86_64.whl (410.6 MB)\n",
            "Collecting nvidia-cufft-cu12==11.0.2.54 (from torch>=1.10.0->torchmetrics==1.3.0.post0)\n",
            "  Using cached nvidia_cufft_cu12-11.0.2.54-py3-none-manylinux1_x86_64.whl (121.6 MB)\n",
            "Collecting nvidia-curand-cu12==10.3.2.106 (from torch>=1.10.0->torchmetrics==1.3.0.post0)\n",
            "  Using cached nvidia_curand_cu12-10.3.2.106-py3-none-manylinux1_x86_64.whl (56.5 MB)\n",
            "Collecting nvidia-cusolver-cu12==11.4.5.107 (from torch>=1.10.0->torchmetrics==1.3.0.post0)\n",
            "  Using cached nvidia_cusolver_cu12-11.4.5.107-py3-none-manylinux1_x86_64.whl (124.2 MB)\n",
            "Collecting nvidia-cusparse-cu12==12.1.0.106 (from torch>=1.10.0->torchmetrics==1.3.0.post0)\n",
            "  Using cached nvidia_cusparse_cu12-12.1.0.106-py3-none-manylinux1_x86_64.whl (196.0 MB)\n",
            "Collecting nvidia-nccl-cu12==2.19.3 (from torch>=1.10.0->torchmetrics==1.3.0.post0)\n",
            "  Using cached nvidia_nccl_cu12-2.19.3-py3-none-manylinux1_x86_64.whl (166.0 MB)\n",
            "Collecting nvidia-nvtx-cu12==12.1.105 (from torch>=1.10.0->torchmetrics==1.3.0.post0)\n",
            "  Using cached nvidia_nvtx_cu12-12.1.105-py3-none-manylinux1_x86_64.whl (99 kB)\n",
            "Requirement already satisfied: triton==2.2.0 in /usr/local/lib/python3.10/dist-packages (from torch>=1.10.0->torchmetrics==1.3.0.post0) (2.2.0)\n",
            "Collecting nvidia-nvjitlink-cu12 (from nvidia-cusolver-cu12==11.4.5.107->torch>=1.10.0->torchmetrics==1.3.0.post0)\n",
            "  Using cached nvidia_nvjitlink_cu12-12.4.127-py3-none-manylinux2014_x86_64.whl (21.1 MB)\n",
            "Requirement already satisfied: contourpy>=1.0.1 in /usr/local/lib/python3.10/dist-packages (from matplotlib->captum==0.7.0) (1.2.1)\n",
            "Requirement already satisfied: cycler>=0.10 in /usr/local/lib/python3.10/dist-packages (from matplotlib->captum==0.7.0) (0.12.1)\n",
            "Requirement already satisfied: fonttools>=4.22.0 in /usr/local/lib/python3.10/dist-packages (from matplotlib->captum==0.7.0) (4.51.0)\n",
            "Requirement already satisfied: kiwisolver>=1.0.1 in /usr/local/lib/python3.10/dist-packages (from matplotlib->captum==0.7.0) (1.4.5)\n",
            "Requirement already satisfied: pillow>=6.2.0 in /usr/local/lib/python3.10/dist-packages (from matplotlib->captum==0.7.0) (9.4.0)\n",
            "Requirement already satisfied: pyparsing>=2.3.1 in /usr/local/lib/python3.10/dist-packages (from matplotlib->captum==0.7.0) (3.1.2)\n",
            "Requirement already satisfied: python-dateutil>=2.7 in /usr/local/lib/python3.10/dist-packages (from matplotlib->captum==0.7.0) (2.8.2)\n",
            "Requirement already satisfied: aiosignal>=1.1.2 in /usr/local/lib/python3.10/dist-packages (from aiohttp!=4.0.0a0,!=4.0.0a1->fsspec[http]>=2022.5.0->pytorch-lightning==2.2.0) (1.3.1)\n",
            "Requirement already satisfied: attrs>=17.3.0 in /usr/local/lib/python3.10/dist-packages (from aiohttp!=4.0.0a0,!=4.0.0a1->fsspec[http]>=2022.5.0->pytorch-lightning==2.2.0) (23.2.0)\n",
            "Requirement already satisfied: frozenlist>=1.1.1 in /usr/local/lib/python3.10/dist-packages (from aiohttp!=4.0.0a0,!=4.0.0a1->fsspec[http]>=2022.5.0->pytorch-lightning==2.2.0) (1.4.1)\n",
            "Requirement already satisfied: multidict<7.0,>=4.5 in /usr/local/lib/python3.10/dist-packages (from aiohttp!=4.0.0a0,!=4.0.0a1->fsspec[http]>=2022.5.0->pytorch-lightning==2.2.0) (6.0.5)\n",
            "Requirement already satisfied: yarl<2.0,>=1.0 in /usr/local/lib/python3.10/dist-packages (from aiohttp!=4.0.0a0,!=4.0.0a1->fsspec[http]>=2022.5.0->pytorch-lightning==2.2.0) (1.9.4)\n",
            "Requirement already satisfied: async-timeout<5.0,>=4.0 in /usr/local/lib/python3.10/dist-packages (from aiohttp!=4.0.0a0,!=4.0.0a1->fsspec[http]>=2022.5.0->pytorch-lightning==2.2.0) (4.0.3)\n",
            "Requirement already satisfied: six>=1.5 in /usr/local/lib/python3.10/dist-packages (from python-dateutil>=2.7->matplotlib->captum==0.7.0) (1.16.0)\n",
            "Requirement already satisfied: MarkupSafe>=2.0 in /usr/local/lib/python3.10/dist-packages (from jinja2->torch>=1.10.0->torchmetrics==1.3.0.post0) (2.1.5)\n",
            "Requirement already satisfied: charset-normalizer<4,>=2 in /usr/local/lib/python3.10/dist-packages (from requests->fsspec[http]>=2022.5.0->pytorch-lightning==2.2.0) (3.3.2)\n",
            "Requirement already satisfied: idna<4,>=2.5 in /usr/local/lib/python3.10/dist-packages (from requests->fsspec[http]>=2022.5.0->pytorch-lightning==2.2.0) (3.7)\n",
            "Requirement already satisfied: urllib3<3,>=1.21.1 in /usr/local/lib/python3.10/dist-packages (from requests->fsspec[http]>=2022.5.0->pytorch-lightning==2.2.0) (2.0.7)\n",
            "Requirement already satisfied: certifi>=2017.4.17 in /usr/local/lib/python3.10/dist-packages (from requests->fsspec[http]>=2022.5.0->pytorch-lightning==2.2.0) (2024.2.2)\n",
            "Requirement already satisfied: mpmath>=0.19 in /usr/local/lib/python3.10/dist-packages (from sympy->torch>=1.10.0->torchmetrics==1.3.0.post0) (1.3.0)\n",
            "Installing collected packages: nvidia-nvtx-cu12, nvidia-nvjitlink-cu12, nvidia-nccl-cu12, nvidia-curand-cu12, nvidia-cufft-cu12, nvidia-cuda-runtime-cu12, nvidia-cuda-nvrtc-cu12, nvidia-cuda-cupti-cu12, nvidia-cublas-cu12, lightning-utilities, nvidia-cusparse-cu12, nvidia-cudnn-cu12, nvidia-cusolver-cu12, torchmetrics, captum, pytorch-lightning\n",
            "Successfully installed captum-0.7.0 lightning-utilities-0.11.2 nvidia-cublas-cu12-12.1.3.1 nvidia-cuda-cupti-cu12-12.1.105 nvidia-cuda-nvrtc-cu12-12.1.105 nvidia-cuda-runtime-cu12-12.1.105 nvidia-cudnn-cu12-8.9.2.26 nvidia-cufft-cu12-11.0.2.54 nvidia-curand-cu12-10.3.2.106 nvidia-cusolver-cu12-11.4.5.107 nvidia-cusparse-cu12-12.1.0.106 nvidia-nccl-cu12-2.19.3 nvidia-nvjitlink-cu12-12.4.127 nvidia-nvtx-cu12-12.1.105 pytorch-lightning-2.2.0 torchmetrics-1.3.0.post0\n"
          ]
        }
      ],
      "source": [
        "!pip install torchmetrics==1.3.0.post0 pytorch-lightning==2.2.0 captum==0.7.0"
      ]
    },
    {
      "cell_type": "code",
      "source": [
        "# Reboot your colab instance after installing the packages and continue from here - IMPORTANT"
      ],
      "metadata": {
        "id": "PzS6Dm0sEl_G"
      },
      "id": "PzS6Dm0sEl_G",
      "execution_count": null,
      "outputs": []
    },
    {
      "cell_type": "code",
      "execution_count": 1,
      "id": "064c5ce8",
      "metadata": {
        "colab": {
          "base_uri": "https://localhost:8080/"
        },
        "id": "064c5ce8",
        "outputId": "31af0a4e-d23c-42ff-bba2-924fbdfbb0b8"
      },
      "outputs": [
        {
          "output_type": "stream",
          "name": "stdout",
          "text": [
            "/content/pnet\n",
            "/content/pnet/notebooks\n"
          ]
        }
      ],
      "source": [
        "from pnet import pnet_loader, Pnet\n",
        "from util import util, sankey_diag\n",
        "import pickle\n",
        "import torch\n",
        "import seaborn as sns\n",
        "import pandas as pd\n",
        "from sklearn import metrics\n",
        "import matplotlib.pyplot as plt\n",
        "from sklearn.metrics import roc_auc_score\n",
        "import scipy\n",
        "import warnings\n",
        "warnings.filterwarnings('ignore')\n",
        "%load_ext autoreload\n",
        "%autoreload 2\n",
        "import os\n",
        "from pnet import ReactomeNetwork\n",
        "current_path = os.getcwd()\n",
        "current_path\n",
        "%cd pnet\n",
        "%cd notebooks"
      ]
    },
    {
      "cell_type": "code",
      "source": [
        "seed = 42\n",
        "torch.manual_seed(seed)\n",
        "if torch.cuda.is_available():\n",
        "    torch.cuda.manual_seed_all(seed)"
      ],
      "metadata": {
        "id": "jpfQ8DiV8wQT"
      },
      "id": "jpfQ8DiV8wQT",
      "execution_count": 2,
      "outputs": []
    },
    {
      "cell_type": "code",
      "execution_count": 3,
      "id": "eda02b43-28d5-45a6-bf93-65b7e90db537",
      "metadata": {
        "id": "eda02b43-28d5-45a6-bf93-65b7e90db537"
      },
      "outputs": [],
      "source": [
        "paths = ['AGE']\n",
        "paths = ['../data/'+ p for p in paths]"
      ]
    },
    {
      "cell_type": "code",
      "execution_count": 4,
      "id": "N3OgOVB1kttL",
      "metadata": {
        "colab": {
          "base_uri": "https://localhost:8080/"
        },
        "id": "N3OgOVB1kttL",
        "outputId": "fa230f54-d012-45de-839a-ef53c5580c00"
      },
      "outputs": [
        {
          "output_type": "stream",
          "name": "stdout",
          "text": [
            "Archive:  /content/pnet/data/AGE.zip\n",
            "  inflating: AGE/.Rhistory           \n",
            "  inflating: AGE/age_pantissue_test.csv  \n",
            "  inflating: AGE/age_pantissue_train.csv  \n",
            "  inflating: AGE/beta_pantissue_test.csv  \n",
            "  inflating: AGE/beta_pantissue_train.csv  \n",
            "  inflating: AGE/ReactomePathways.gmt  \n"
          ]
        }
      ],
      "source": [
        "!unzip /content/pnet/data/AGE.zip"
      ]
    },
    {
      "cell_type": "code",
      "execution_count": 5,
      "id": "VuC1RyUcCiF8",
      "metadata": {
        "id": "VuC1RyUcCiF8"
      },
      "outputs": [],
      "source": [
        "!mv /content/pnet/notebooks/AGE /content/pnet/data/"
      ]
    },
    {
      "cell_type": "code",
      "source": [
        "!mv /content/pnet/data/AGE/ReactomePathways.gmt /content/pnet/data/reactome/"
      ],
      "metadata": {
        "id": "4XzlRN-pGDPu"
      },
      "id": "4XzlRN-pGDPu",
      "execution_count": 6,
      "outputs": []
    },
    {
      "cell_type": "code",
      "execution_count": 7,
      "id": "xoPR3UpHljnD",
      "metadata": {
        "id": "xoPR3UpHljnD"
      },
      "outputs": [],
      "source": [
        "# Change the file name to your data set. See the beta_pantissue_test.csv file for formating requirements (The column order and exact naming are important)\n",
        "\n",
        "beta = pd.read_csv(\"../data/AGE/beta_pantissue_test.csv\", sep = \",\", index_col=0)\n",
        "beta.fillna(0, inplace=True)\n"
      ]
    },
    {
      "cell_type": "code",
      "execution_count": 8,
      "id": "tNPkaocz5zp2",
      "metadata": {
        "id": "tNPkaocz5zp2"
      },
      "outputs": [],
      "source": [
        "beta.index.names = [\"Sample_Barcode\"]\n",
        "beta.columns.name = None\n",
        "beta.columns.name =\"Hugo_Symbol\""
      ]
    },
    {
      "cell_type": "code",
      "source": [
        "beta.head()"
      ],
      "metadata": {
        "colab": {
          "base_uri": "https://localhost:8080/",
          "height": 460
        },
        "id": "eHfolAt0HLJ7",
        "outputId": "90f0e5a7-81a3-4b08-9115-fe07b6299992"
      },
      "id": "eHfolAt0HLJ7",
      "execution_count": 9,
      "outputs": [
        {
          "output_type": "execute_result",
          "data": {
            "text/plain": [
              "Hugo_Symbol                           ATP2A1_cg00000292  HOXD3_cg00005847  \\\n",
              "Sample_Barcode                                                              \n",
              "00e912ed-409a-4341-9c82-47ba4214164c           0.466374          0.678716   \n",
              "00ff6010-65c6-4738-8b92-31e5f34b88d1           0.860417          0.181670   \n",
              "01204c62-a786-4eec-a249-9f6a9f3a7c33           0.602833          0.284675   \n",
              "01823202-f483-4956-953d-a0d0406ece02           0.484950          0.765141   \n",
              "0293bcab-3430-4754-87e6-282d2b08f658           0.676393          0.728136   \n",
              "\n",
              "Hugo_Symbol                           PANX1_cg00007981  UNC79_cg00008493  \\\n",
              "Sample_Barcode                                                             \n",
              "00e912ed-409a-4341-9c82-47ba4214164c          0.023707          0.949214   \n",
              "00ff6010-65c6-4738-8b92-31e5f34b88d1          0.027099          0.946607   \n",
              "01204c62-a786-4eec-a249-9f6a9f3a7c33          0.031497          0.988285   \n",
              "01823202-f483-4956-953d-a0d0406ece02          0.065657          0.993749   \n",
              "0293bcab-3430-4754-87e6-282d2b08f658          0.026638          0.899903   \n",
              "\n",
              "Hugo_Symbol                           IMPA2_cg00008713  TTC8_cg00009407  \\\n",
              "Sample_Barcode                                                            \n",
              "00e912ed-409a-4341-9c82-47ba4214164c          0.047502         0.027289   \n",
              "00ff6010-65c6-4738-8b92-31e5f34b88d1          0.034121         0.024679   \n",
              "01204c62-a786-4eec-a249-9f6a9f3a7c33          0.011568         0.010236   \n",
              "01823202-f483-4956-953d-a0d0406ece02          0.011386         0.007285   \n",
              "0293bcab-3430-4754-87e6-282d2b08f658          0.054508         0.025825   \n",
              "\n",
              "Hugo_Symbol                           PMM2_cg00011459  TMEM186_cg00011459  \\\n",
              "Sample_Barcode                                                              \n",
              "00e912ed-409a-4341-9c82-47ba4214164c         0.876816            0.876816   \n",
              "00ff6010-65c6-4738-8b92-31e5f34b88d1         0.958823            0.958823   \n",
              "01204c62-a786-4eec-a249-9f6a9f3a7c33         0.942079            0.942079   \n",
              "01823202-f483-4956-953d-a0d0406ece02         0.920876            0.920876   \n",
              "0293bcab-3430-4754-87e6-282d2b08f658         0.863760            0.863760   \n",
              "\n",
              "Hugo_Symbol                           ANG_cg00012199  RETSAT_cg00014085  ...  \\\n",
              "Sample_Barcode                                                           ...   \n",
              "00e912ed-409a-4341-9c82-47ba4214164c        0.029009           0.051533  ...   \n",
              "00ff6010-65c6-4738-8b92-31e5f34b88d1        0.036694           0.024368  ...   \n",
              "01204c62-a786-4eec-a249-9f6a9f3a7c33        0.012442           0.014553  ...   \n",
              "01823202-f483-4956-953d-a0d0406ece02        0.009088           0.020793  ...   \n",
              "0293bcab-3430-4754-87e6-282d2b08f658        0.028952           0.065639  ...   \n",
              "\n",
              "Hugo_Symbol                           RHOBTB1_cg27648946  DAB2IP_cg27650175  \\\n",
              "Sample_Barcode                                                                \n",
              "00e912ed-409a-4341-9c82-47ba4214164c            0.109460           0.036195   \n",
              "00ff6010-65c6-4738-8b92-31e5f34b88d1            0.186968           0.789788   \n",
              "01204c62-a786-4eec-a249-9f6a9f3a7c33            0.053741           0.193285   \n",
              "01823202-f483-4956-953d-a0d0406ece02            0.068201           0.025486   \n",
              "0293bcab-3430-4754-87e6-282d2b08f658            0.136640           0.021984   \n",
              "\n",
              "Hugo_Symbol                           UNC79_cg27651218  ALDH1A3_cg27652350  \\\n",
              "Sample_Barcode                                                               \n",
              "00e912ed-409a-4341-9c82-47ba4214164c          0.939027            0.229371   \n",
              "00ff6010-65c6-4738-8b92-31e5f34b88d1          0.960890            0.193650   \n",
              "01204c62-a786-4eec-a249-9f6a9f3a7c33          0.974155            0.595769   \n",
              "01823202-f483-4956-953d-a0d0406ece02          0.980533            0.244018   \n",
              "0293bcab-3430-4754-87e6-282d2b08f658          0.933585            0.510437   \n",
              "\n",
              "Hugo_Symbol                           ZFP2_cg27654142  P3H1_cg27657283  \\\n",
              "Sample_Barcode                                                           \n",
              "00e912ed-409a-4341-9c82-47ba4214164c         0.054044         0.024098   \n",
              "00ff6010-65c6-4738-8b92-31e5f34b88d1         0.113157         0.033385   \n",
              "01204c62-a786-4eec-a249-9f6a9f3a7c33         0.128559         0.036427   \n",
              "01823202-f483-4956-953d-a0d0406ece02         0.062888         0.096885   \n",
              "0293bcab-3430-4754-87e6-282d2b08f658         0.051498         0.031735   \n",
              "\n",
              "Hugo_Symbol                           GNAS_cg27661264  RPN1_cg27662379  \\\n",
              "Sample_Barcode                                                           \n",
              "00e912ed-409a-4341-9c82-47ba4214164c         0.343214         0.047387   \n",
              "00ff6010-65c6-4738-8b92-31e5f34b88d1         0.288967         0.104558   \n",
              "01204c62-a786-4eec-a249-9f6a9f3a7c33         0.368826         0.009656   \n",
              "01823202-f483-4956-953d-a0d0406ece02         0.422750         0.009930   \n",
              "0293bcab-3430-4754-87e6-282d2b08f658         0.286536         0.043684   \n",
              "\n",
              "Hugo_Symbol                           CYB5A_cg27662877  AP1S1_cg27665659  \n",
              "Sample_Barcode                                                            \n",
              "00e912ed-409a-4341-9c82-47ba4214164c          0.050592          0.094580  \n",
              "00ff6010-65c6-4738-8b92-31e5f34b88d1          0.037776          0.057258  \n",
              "01204c62-a786-4eec-a249-9f6a9f3a7c33          0.020215          0.054243  \n",
              "01823202-f483-4956-953d-a0d0406ece02          0.024363          0.028508  \n",
              "0293bcab-3430-4754-87e6-282d2b08f658          0.061026          0.077298  \n",
              "\n",
              "[5 rows x 15591 columns]"
            ],
            "text/html": [
              "\n",
              "  <div id=\"df-7df896b9-89db-4030-bf13-7ca705ec8fb7\" class=\"colab-df-container\">\n",
              "    <div>\n",
              "<style scoped>\n",
              "    .dataframe tbody tr th:only-of-type {\n",
              "        vertical-align: middle;\n",
              "    }\n",
              "\n",
              "    .dataframe tbody tr th {\n",
              "        vertical-align: top;\n",
              "    }\n",
              "\n",
              "    .dataframe thead th {\n",
              "        text-align: right;\n",
              "    }\n",
              "</style>\n",
              "<table border=\"1\" class=\"dataframe\">\n",
              "  <thead>\n",
              "    <tr style=\"text-align: right;\">\n",
              "      <th>Hugo_Symbol</th>\n",
              "      <th>ATP2A1_cg00000292</th>\n",
              "      <th>HOXD3_cg00005847</th>\n",
              "      <th>PANX1_cg00007981</th>\n",
              "      <th>UNC79_cg00008493</th>\n",
              "      <th>IMPA2_cg00008713</th>\n",
              "      <th>TTC8_cg00009407</th>\n",
              "      <th>PMM2_cg00011459</th>\n",
              "      <th>TMEM186_cg00011459</th>\n",
              "      <th>ANG_cg00012199</th>\n",
              "      <th>RETSAT_cg00014085</th>\n",
              "      <th>...</th>\n",
              "      <th>RHOBTB1_cg27648946</th>\n",
              "      <th>DAB2IP_cg27650175</th>\n",
              "      <th>UNC79_cg27651218</th>\n",
              "      <th>ALDH1A3_cg27652350</th>\n",
              "      <th>ZFP2_cg27654142</th>\n",
              "      <th>P3H1_cg27657283</th>\n",
              "      <th>GNAS_cg27661264</th>\n",
              "      <th>RPN1_cg27662379</th>\n",
              "      <th>CYB5A_cg27662877</th>\n",
              "      <th>AP1S1_cg27665659</th>\n",
              "    </tr>\n",
              "    <tr>\n",
              "      <th>Sample_Barcode</th>\n",
              "      <th></th>\n",
              "      <th></th>\n",
              "      <th></th>\n",
              "      <th></th>\n",
              "      <th></th>\n",
              "      <th></th>\n",
              "      <th></th>\n",
              "      <th></th>\n",
              "      <th></th>\n",
              "      <th></th>\n",
              "      <th></th>\n",
              "      <th></th>\n",
              "      <th></th>\n",
              "      <th></th>\n",
              "      <th></th>\n",
              "      <th></th>\n",
              "      <th></th>\n",
              "      <th></th>\n",
              "      <th></th>\n",
              "      <th></th>\n",
              "      <th></th>\n",
              "    </tr>\n",
              "  </thead>\n",
              "  <tbody>\n",
              "    <tr>\n",
              "      <th>00e912ed-409a-4341-9c82-47ba4214164c</th>\n",
              "      <td>0.466374</td>\n",
              "      <td>0.678716</td>\n",
              "      <td>0.023707</td>\n",
              "      <td>0.949214</td>\n",
              "      <td>0.047502</td>\n",
              "      <td>0.027289</td>\n",
              "      <td>0.876816</td>\n",
              "      <td>0.876816</td>\n",
              "      <td>0.029009</td>\n",
              "      <td>0.051533</td>\n",
              "      <td>...</td>\n",
              "      <td>0.109460</td>\n",
              "      <td>0.036195</td>\n",
              "      <td>0.939027</td>\n",
              "      <td>0.229371</td>\n",
              "      <td>0.054044</td>\n",
              "      <td>0.024098</td>\n",
              "      <td>0.343214</td>\n",
              "      <td>0.047387</td>\n",
              "      <td>0.050592</td>\n",
              "      <td>0.094580</td>\n",
              "    </tr>\n",
              "    <tr>\n",
              "      <th>00ff6010-65c6-4738-8b92-31e5f34b88d1</th>\n",
              "      <td>0.860417</td>\n",
              "      <td>0.181670</td>\n",
              "      <td>0.027099</td>\n",
              "      <td>0.946607</td>\n",
              "      <td>0.034121</td>\n",
              "      <td>0.024679</td>\n",
              "      <td>0.958823</td>\n",
              "      <td>0.958823</td>\n",
              "      <td>0.036694</td>\n",
              "      <td>0.024368</td>\n",
              "      <td>...</td>\n",
              "      <td>0.186968</td>\n",
              "      <td>0.789788</td>\n",
              "      <td>0.960890</td>\n",
              "      <td>0.193650</td>\n",
              "      <td>0.113157</td>\n",
              "      <td>0.033385</td>\n",
              "      <td>0.288967</td>\n",
              "      <td>0.104558</td>\n",
              "      <td>0.037776</td>\n",
              "      <td>0.057258</td>\n",
              "    </tr>\n",
              "    <tr>\n",
              "      <th>01204c62-a786-4eec-a249-9f6a9f3a7c33</th>\n",
              "      <td>0.602833</td>\n",
              "      <td>0.284675</td>\n",
              "      <td>0.031497</td>\n",
              "      <td>0.988285</td>\n",
              "      <td>0.011568</td>\n",
              "      <td>0.010236</td>\n",
              "      <td>0.942079</td>\n",
              "      <td>0.942079</td>\n",
              "      <td>0.012442</td>\n",
              "      <td>0.014553</td>\n",
              "      <td>...</td>\n",
              "      <td>0.053741</td>\n",
              "      <td>0.193285</td>\n",
              "      <td>0.974155</td>\n",
              "      <td>0.595769</td>\n",
              "      <td>0.128559</td>\n",
              "      <td>0.036427</td>\n",
              "      <td>0.368826</td>\n",
              "      <td>0.009656</td>\n",
              "      <td>0.020215</td>\n",
              "      <td>0.054243</td>\n",
              "    </tr>\n",
              "    <tr>\n",
              "      <th>01823202-f483-4956-953d-a0d0406ece02</th>\n",
              "      <td>0.484950</td>\n",
              "      <td>0.765141</td>\n",
              "      <td>0.065657</td>\n",
              "      <td>0.993749</td>\n",
              "      <td>0.011386</td>\n",
              "      <td>0.007285</td>\n",
              "      <td>0.920876</td>\n",
              "      <td>0.920876</td>\n",
              "      <td>0.009088</td>\n",
              "      <td>0.020793</td>\n",
              "      <td>...</td>\n",
              "      <td>0.068201</td>\n",
              "      <td>0.025486</td>\n",
              "      <td>0.980533</td>\n",
              "      <td>0.244018</td>\n",
              "      <td>0.062888</td>\n",
              "      <td>0.096885</td>\n",
              "      <td>0.422750</td>\n",
              "      <td>0.009930</td>\n",
              "      <td>0.024363</td>\n",
              "      <td>0.028508</td>\n",
              "    </tr>\n",
              "    <tr>\n",
              "      <th>0293bcab-3430-4754-87e6-282d2b08f658</th>\n",
              "      <td>0.676393</td>\n",
              "      <td>0.728136</td>\n",
              "      <td>0.026638</td>\n",
              "      <td>0.899903</td>\n",
              "      <td>0.054508</td>\n",
              "      <td>0.025825</td>\n",
              "      <td>0.863760</td>\n",
              "      <td>0.863760</td>\n",
              "      <td>0.028952</td>\n",
              "      <td>0.065639</td>\n",
              "      <td>...</td>\n",
              "      <td>0.136640</td>\n",
              "      <td>0.021984</td>\n",
              "      <td>0.933585</td>\n",
              "      <td>0.510437</td>\n",
              "      <td>0.051498</td>\n",
              "      <td>0.031735</td>\n",
              "      <td>0.286536</td>\n",
              "      <td>0.043684</td>\n",
              "      <td>0.061026</td>\n",
              "      <td>0.077298</td>\n",
              "    </tr>\n",
              "  </tbody>\n",
              "</table>\n",
              "<p>5 rows × 15591 columns</p>\n",
              "</div>\n",
              "    <div class=\"colab-df-buttons\">\n",
              "\n",
              "  <div class=\"colab-df-container\">\n",
              "    <button class=\"colab-df-convert\" onclick=\"convertToInteractive('df-7df896b9-89db-4030-bf13-7ca705ec8fb7')\"\n",
              "            title=\"Convert this dataframe to an interactive table.\"\n",
              "            style=\"display:none;\">\n",
              "\n",
              "  <svg xmlns=\"http://www.w3.org/2000/svg\" height=\"24px\" viewBox=\"0 -960 960 960\">\n",
              "    <path d=\"M120-120v-720h720v720H120Zm60-500h600v-160H180v160Zm220 220h160v-160H400v160Zm0 220h160v-160H400v160ZM180-400h160v-160H180v160Zm440 0h160v-160H620v160ZM180-180h160v-160H180v160Zm440 0h160v-160H620v160Z\"/>\n",
              "  </svg>\n",
              "    </button>\n",
              "\n",
              "  <style>\n",
              "    .colab-df-container {\n",
              "      display:flex;\n",
              "      gap: 12px;\n",
              "    }\n",
              "\n",
              "    .colab-df-convert {\n",
              "      background-color: #E8F0FE;\n",
              "      border: none;\n",
              "      border-radius: 50%;\n",
              "      cursor: pointer;\n",
              "      display: none;\n",
              "      fill: #1967D2;\n",
              "      height: 32px;\n",
              "      padding: 0 0 0 0;\n",
              "      width: 32px;\n",
              "    }\n",
              "\n",
              "    .colab-df-convert:hover {\n",
              "      background-color: #E2EBFA;\n",
              "      box-shadow: 0px 1px 2px rgba(60, 64, 67, 0.3), 0px 1px 3px 1px rgba(60, 64, 67, 0.15);\n",
              "      fill: #174EA6;\n",
              "    }\n",
              "\n",
              "    .colab-df-buttons div {\n",
              "      margin-bottom: 4px;\n",
              "    }\n",
              "\n",
              "    [theme=dark] .colab-df-convert {\n",
              "      background-color: #3B4455;\n",
              "      fill: #D2E3FC;\n",
              "    }\n",
              "\n",
              "    [theme=dark] .colab-df-convert:hover {\n",
              "      background-color: #434B5C;\n",
              "      box-shadow: 0px 1px 3px 1px rgba(0, 0, 0, 0.15);\n",
              "      filter: drop-shadow(0px 1px 2px rgba(0, 0, 0, 0.3));\n",
              "      fill: #FFFFFF;\n",
              "    }\n",
              "  </style>\n",
              "\n",
              "    <script>\n",
              "      const buttonEl =\n",
              "        document.querySelector('#df-7df896b9-89db-4030-bf13-7ca705ec8fb7 button.colab-df-convert');\n",
              "      buttonEl.style.display =\n",
              "        google.colab.kernel.accessAllowed ? 'block' : 'none';\n",
              "\n",
              "      async function convertToInteractive(key) {\n",
              "        const element = document.querySelector('#df-7df896b9-89db-4030-bf13-7ca705ec8fb7');\n",
              "        const dataTable =\n",
              "          await google.colab.kernel.invokeFunction('convertToInteractive',\n",
              "                                                    [key], {});\n",
              "        if (!dataTable) return;\n",
              "\n",
              "        const docLinkHtml = 'Like what you see? Visit the ' +\n",
              "          '<a target=\"_blank\" href=https://colab.research.google.com/notebooks/data_table.ipynb>data table notebook</a>'\n",
              "          + ' to learn more about interactive tables.';\n",
              "        element.innerHTML = '';\n",
              "        dataTable['output_type'] = 'display_data';\n",
              "        await google.colab.output.renderOutput(dataTable, element);\n",
              "        const docLink = document.createElement('div');\n",
              "        docLink.innerHTML = docLinkHtml;\n",
              "        element.appendChild(docLink);\n",
              "      }\n",
              "    </script>\n",
              "  </div>\n",
              "\n",
              "\n",
              "<div id=\"df-484dead1-c0c7-4b2a-b996-71377af189a6\">\n",
              "  <button class=\"colab-df-quickchart\" onclick=\"quickchart('df-484dead1-c0c7-4b2a-b996-71377af189a6')\"\n",
              "            title=\"Suggest charts\"\n",
              "            style=\"display:none;\">\n",
              "\n",
              "<svg xmlns=\"http://www.w3.org/2000/svg\" height=\"24px\"viewBox=\"0 0 24 24\"\n",
              "     width=\"24px\">\n",
              "    <g>\n",
              "        <path d=\"M19 3H5c-1.1 0-2 .9-2 2v14c0 1.1.9 2 2 2h14c1.1 0 2-.9 2-2V5c0-1.1-.9-2-2-2zM9 17H7v-7h2v7zm4 0h-2V7h2v10zm4 0h-2v-4h2v4z\"/>\n",
              "    </g>\n",
              "</svg>\n",
              "  </button>\n",
              "\n",
              "<style>\n",
              "  .colab-df-quickchart {\n",
              "      --bg-color: #E8F0FE;\n",
              "      --fill-color: #1967D2;\n",
              "      --hover-bg-color: #E2EBFA;\n",
              "      --hover-fill-color: #174EA6;\n",
              "      --disabled-fill-color: #AAA;\n",
              "      --disabled-bg-color: #DDD;\n",
              "  }\n",
              "\n",
              "  [theme=dark] .colab-df-quickchart {\n",
              "      --bg-color: #3B4455;\n",
              "      --fill-color: #D2E3FC;\n",
              "      --hover-bg-color: #434B5C;\n",
              "      --hover-fill-color: #FFFFFF;\n",
              "      --disabled-bg-color: #3B4455;\n",
              "      --disabled-fill-color: #666;\n",
              "  }\n",
              "\n",
              "  .colab-df-quickchart {\n",
              "    background-color: var(--bg-color);\n",
              "    border: none;\n",
              "    border-radius: 50%;\n",
              "    cursor: pointer;\n",
              "    display: none;\n",
              "    fill: var(--fill-color);\n",
              "    height: 32px;\n",
              "    padding: 0;\n",
              "    width: 32px;\n",
              "  }\n",
              "\n",
              "  .colab-df-quickchart:hover {\n",
              "    background-color: var(--hover-bg-color);\n",
              "    box-shadow: 0 1px 2px rgba(60, 64, 67, 0.3), 0 1px 3px 1px rgba(60, 64, 67, 0.15);\n",
              "    fill: var(--button-hover-fill-color);\n",
              "  }\n",
              "\n",
              "  .colab-df-quickchart-complete:disabled,\n",
              "  .colab-df-quickchart-complete:disabled:hover {\n",
              "    background-color: var(--disabled-bg-color);\n",
              "    fill: var(--disabled-fill-color);\n",
              "    box-shadow: none;\n",
              "  }\n",
              "\n",
              "  .colab-df-spinner {\n",
              "    border: 2px solid var(--fill-color);\n",
              "    border-color: transparent;\n",
              "    border-bottom-color: var(--fill-color);\n",
              "    animation:\n",
              "      spin 1s steps(1) infinite;\n",
              "  }\n",
              "\n",
              "  @keyframes spin {\n",
              "    0% {\n",
              "      border-color: transparent;\n",
              "      border-bottom-color: var(--fill-color);\n",
              "      border-left-color: var(--fill-color);\n",
              "    }\n",
              "    20% {\n",
              "      border-color: transparent;\n",
              "      border-left-color: var(--fill-color);\n",
              "      border-top-color: var(--fill-color);\n",
              "    }\n",
              "    30% {\n",
              "      border-color: transparent;\n",
              "      border-left-color: var(--fill-color);\n",
              "      border-top-color: var(--fill-color);\n",
              "      border-right-color: var(--fill-color);\n",
              "    }\n",
              "    40% {\n",
              "      border-color: transparent;\n",
              "      border-right-color: var(--fill-color);\n",
              "      border-top-color: var(--fill-color);\n",
              "    }\n",
              "    60% {\n",
              "      border-color: transparent;\n",
              "      border-right-color: var(--fill-color);\n",
              "    }\n",
              "    80% {\n",
              "      border-color: transparent;\n",
              "      border-right-color: var(--fill-color);\n",
              "      border-bottom-color: var(--fill-color);\n",
              "    }\n",
              "    90% {\n",
              "      border-color: transparent;\n",
              "      border-bottom-color: var(--fill-color);\n",
              "    }\n",
              "  }\n",
              "</style>\n",
              "\n",
              "  <script>\n",
              "    async function quickchart(key) {\n",
              "      const quickchartButtonEl =\n",
              "        document.querySelector('#' + key + ' button');\n",
              "      quickchartButtonEl.disabled = true;  // To prevent multiple clicks.\n",
              "      quickchartButtonEl.classList.add('colab-df-spinner');\n",
              "      try {\n",
              "        const charts = await google.colab.kernel.invokeFunction(\n",
              "            'suggestCharts', [key], {});\n",
              "      } catch (error) {\n",
              "        console.error('Error during call to suggestCharts:', error);\n",
              "      }\n",
              "      quickchartButtonEl.classList.remove('colab-df-spinner');\n",
              "      quickchartButtonEl.classList.add('colab-df-quickchart-complete');\n",
              "    }\n",
              "    (() => {\n",
              "      let quickchartButtonEl =\n",
              "        document.querySelector('#df-484dead1-c0c7-4b2a-b996-71377af189a6 button');\n",
              "      quickchartButtonEl.style.display =\n",
              "        google.colab.kernel.accessAllowed ? 'block' : 'none';\n",
              "    })();\n",
              "  </script>\n",
              "</div>\n",
              "    </div>\n",
              "  </div>\n"
            ],
            "application/vnd.google.colaboratory.intrinsic+json": {
              "type": "dataframe",
              "variable_name": "beta"
            }
          },
          "metadata": {},
          "execution_count": 9
        }
      ]
    },
    {
      "cell_type": "code",
      "execution_count": 10,
      "id": "Qp49oLExhMq3",
      "metadata": {
        "id": "Qp49oLExhMq3"
      },
      "outputs": [],
      "source": [
        "age = pd.read_csv(\"../data/AGE/age_pantissue_test.csv\", sep = \",\", index_col=0)\n",
        "age.index.names = [\"Sample_Barcode\"]\n",
        "\n"
      ]
    },
    {
      "cell_type": "code",
      "source": [
        "#beta = beta.sample(n=1000) # Select a random sample if you don't have enough RAM for creating the visualization\n",
        "age = age.loc[beta.index]\n"
      ],
      "metadata": {
        "id": "mkOM6bnVd28V"
      },
      "id": "mkOM6bnVd28V",
      "execution_count": 12,
      "outputs": []
    },
    {
      "cell_type": "code",
      "source": [
        "input_data = {'beta': beta}"
      ],
      "metadata": {
        "id": "ENLhLc52E47M"
      },
      "id": "ENLhLc52E47M",
      "execution_count": 13,
      "outputs": []
    },
    {
      "cell_type": "code",
      "source": [
        "!cp /content/drive/MyDrive/xaiage/model_big_2.pt /content/pnet/results/ # Copying the model file"
      ],
      "metadata": {
        "id": "KkdHva6ssAAI"
      },
      "id": "KkdHva6ssAAI",
      "execution_count": 14,
      "outputs": []
    },
    {
      "cell_type": "code",
      "source": [
        "!cp /content/drive/MyDrive/xaiage/test_dataset.pkl /content/pnet/results/ # Copying the test dataset from our paper. This is important for setting up the model"
      ],
      "metadata": {
        "id": "uky6YsQic8BP"
      },
      "id": "uky6YsQic8BP",
      "execution_count": 15,
      "outputs": []
    },
    {
      "cell_type": "code",
      "source": [
        "!cp /content/drive/MyDrive/xaiage/reactome_network.pkl /content/pnet/results/ #Copying the reactome file"
      ],
      "metadata": {
        "id": "glil5eNHer_S"
      },
      "id": "glil5eNHer_S",
      "execution_count": 16,
      "outputs": []
    },
    {
      "cell_type": "code",
      "source": [
        "filename = '/content/pnet/results/reactome_network.pkl'\n",
        "\n",
        "# Open the file and use pickle.load() to deserialize the object\n",
        "with open(filename, 'rb') as file:\n",
        "    reactome_network = pickle.load(file)"
      ],
      "metadata": {
        "id": "YLAExv43dORU"
      },
      "id": "YLAExv43dORU",
      "execution_count": 17,
      "outputs": []
    },
    {
      "cell_type": "code",
      "source": [
        "with open(\"/content/pnet/results/test_dataset.pkl\", 'rb') as file:\n",
        "    test_dataset = pickle.load(file)"
      ],
      "metadata": {
        "id": "tkUwOonMu42b"
      },
      "id": "tkUwOonMu42b",
      "execution_count": 18,
      "outputs": []
    },
    {
      "cell_type": "code",
      "source": [
        "%cd /content/pnet"
      ],
      "metadata": {
        "colab": {
          "base_uri": "https://localhost:8080/"
        },
        "id": "5jPllZYS2q8-",
        "outputId": "a4401a97-9a9a-4fc1-b0bf-bed1f536e19e"
      },
      "id": "5jPllZYS2q8-",
      "execution_count": 19,
      "outputs": [
        {
          "output_type": "stream",
          "name": "stdout",
          "text": [
            "/content/pnet\n"
          ]
        }
      ]
    },
    {
      "cell_type": "code",
      "source": [
        "from src.pnet.Pnet import PNET_NN\n",
        "model = PNET_NN(reactome_network=reactome_network, task=\"REG\")\n"
      ],
      "metadata": {
        "colab": {
          "base_uri": "https://localhost:8080/"
        },
        "id": "xHU6mBYBzPEp",
        "outputId": "d6610751-8c74-43ac-fdce-6d27235744ab"
      },
      "id": "xHU6mBYBzPEp",
      "execution_count": 20,
      "outputs": [
        {
          "output_type": "stream",
          "name": "stdout",
          "text": [
            "Loss function used: MSELoss()\n"
          ]
        }
      ]
    },
    {
      "cell_type": "code",
      "source": [
        "model.load_state_dict(torch.load(\"/content/pnet/results/model_big_2.pt\", map_location=\"cuda:0\"))"
      ],
      "metadata": {
        "colab": {
          "base_uri": "https://localhost:8080/"
        },
        "id": "h0kk6Y_X3C5N",
        "outputId": "e54665e0-cf00-4e1f-9888-33779c4b31aa"
      },
      "id": "h0kk6Y_X3C5N",
      "execution_count": 21,
      "outputs": [
        {
          "output_type": "execute_result",
          "data": {
            "text/plain": [
              "<All keys matched successfully>"
            ]
          },
          "metadata": {},
          "execution_count": 21
        }
      ]
    },
    {
      "cell_type": "code",
      "source": [
        "# The model predicts the transformed biological age - you need to transform it back if your data is in the untransformed chronological age format\n",
        "import numpy as np\n",
        "def transform_prediction(pred_list, age_adult = 20):\n",
        "    return [(1+age_adult)*np.exp(pred)-1 if pred < 0 else (1+age_adult)*pred+age_adult for pred in pred_list]"
      ],
      "metadata": {
        "id": "XRXMawbumq7f"
      },
      "id": "XRXMawbumq7f",
      "execution_count": 22,
      "outputs": []
    },
    {
      "cell_type": "code",
      "source": [
        "test_dataset.input_df.rename(columns=lambda x: x.replace('_beta', ''), inplace=True)\n",
        "columns_to_use = test_dataset.input_df.columns\n",
        "\n"
      ],
      "metadata": {
        "id": "Q88FuPYevFFy"
      },
      "id": "Q88FuPYevFFy",
      "execution_count": 23,
      "outputs": []
    },
    {
      "cell_type": "code",
      "source": [
        "# This is a bunch of transformation steps to make the data compatible with the pytorch model, will be simplified in the future\n",
        "beta_mod = beta[columns_to_use]\n",
        "test_dataset.input_df = beta_mod\n",
        "test_dataset.x = torch.from_numpy(test_dataset.input_df.values).to(torch.float32)\n",
        "test_dataset.additional  = torch.empty(len(test_dataset.input_df), 0)\n",
        "test_dataset.inds = list(beta_mod.index.values)\n",
        "test_dataset.target = age\n",
        "test_dataset.additional_data =  pd.DataFrame(index=list(beta_mod.index.values))\n",
        "test_dataset.y = torch.from_numpy(age['response'].values).to(torch.float32)"
      ],
      "metadata": {
        "id": "uV-MGaXLwB_W"
      },
      "id": "uV-MGaXLwB_W",
      "execution_count": 25,
      "outputs": []
    },
    {
      "cell_type": "code",
      "execution_count": 26,
      "id": "1ef0e7d6-8a3b-4aed-8cf3-6099fcec4e52",
      "metadata": {
        "colab": {
          "base_uri": "https://localhost:8080/",
          "height": 450
        },
        "id": "1ef0e7d6-8a3b-4aed-8cf3-6099fcec4e52",
        "outputId": "4a84b7c7-d58a-4f25-eb18-a21e74e61a97"
      },
      "outputs": [
        {
          "output_type": "display_data",
          "data": {
            "text/plain": [
              "<Figure size 640x480 with 1 Axes>"
            ],
            "image/png": "[encoded data removed]"
          },
          "metadata": {}
        }
      ],
      "source": [
        "from sklearn.metrics import mean_squared_error\n",
        "\n",
        "model.to('cpu')\n",
        "model.eval()\n",
        "\n",
        "y_pred = model.predict(test_dataset.x, test_dataset.additional).detach()\n",
        "\n",
        "df = pd.DataFrame(index=test_dataset.input_df.index)\n",
        "\n",
        "y_test_p = transform_prediction(age['response'])\n",
        "\n",
        "\n",
        "\n",
        "df['y_test'] =  y_test_p\n",
        "df['y_pred'] = [x.item() for x in y_pred]\n",
        "\n",
        "\n",
        "sns.regplot(data=df, x='y_test', y='y_pred', color='#41B6E6')\n",
        "correlation_coefficient = round(df['y_test'].corr(df['y_pred']), 2)\n",
        "plt.text(0.95, 0.05, f'Correlation: {correlation_coefficient}', ha='right', va='center', transform=plt.gca().transAxes)\n",
        "plt.plot(y_test_p, y_test_p, color='#FFA300', linestyle='--', label='Diagonal Line')\n",
        "sns.despine()\n",
        "plt.show()"
      ]
    },
    {
      "cell_type": "code",
      "execution_count": 27,
      "id": "6312bb23-34dc-4e54-8108-92101b6c0ae7",
      "metadata": {
        "id": "6312bb23-34dc-4e54-8108-92101b6c0ae7"
      },
      "outputs": [],
      "source": [
        "gene_feature_importances, additional_feature_importances, gene_importances, layer_importance_scores = model.interpret(test_dataset)\n",
        "layer_list = [gene_feature_importances, additional_feature_importances, gene_importances] + layer_importance_scores\n",
        "layer_list_names = ['gene_feature', 'additional_feature', 'gene'] + [f'layer_{i}' for i in range(5)]\n",
        "layer_list_dict = dict(zip(layer_list_names, layer_list))"
      ]
    },
    {
      "cell_type": "code",
      "source": [
        "layer_list_dict.pop('additional_feature', None)\n"
      ],
      "metadata": {
        "colab": {
          "base_uri": "https://localhost:8080/",
          "height": 406
        },
        "id": "MjK4yIHPlOlx",
        "outputId": "24013c65-f801-464a-e824-02c116214039"
      },
      "id": "MjK4yIHPlOlx",
      "execution_count": 28,
      "outputs": [
        {
          "output_type": "execute_result",
          "data": {
            "text/plain": [
              "Empty DataFrame\n",
              "Columns: []\n",
              "Index: [GSM492458, db23dcfc-0126-49c5-9705-6e1b79fc7df1, GSM501517, GSM401855, GSM635685, GSM1007542, GSM990444, 9fb03847-80e0-40ff-9e2c-c18729fbe636, 694302f1-8852-4c98-9404-e25113989202, GSM882060, GSM667460, 8e446d13-eb4a-46e5-bbd2-c9e3ac7aed2d, GSM951206, GSM492441, GSM1007148, GSM1007729, GSM667400, GSM880050, GSM492100, GSM501639, GSM951128, GSM675232, GSM763101, efd82da0-f063-4d28-a927-1eb22ef50332, GSM667448, bdb6bc0b-738c-41a7-a3f0-5d82558fde1b, GSM840845, GSM666731, ad737794-b97e-4424-b8e9-9c041156b0c4, GSM1007633, GSM1048161, GSM1007325, GSM643304, GSM990288, GSM643319, GSM938085, GSM990539, GSM1007747, GSM1051952, GSM712304, GSM1007206, GSM635592, 43498f0b-b4d6-492c-8bd2-aab7ad40fc96, 69497142-69b3-435d-9167-c8a27625cb1d, b0255efd-f29e-4d49-8f98-50172d02b660, GSM1009723, GSM1024947, GSM908392, GSM1007745, GSM1051560, GSM507218, GSM1052185, 20048f6e-2f05-4029-af70-a664411f0fe7, GSM492184, GSM990111, GSM1007424, GSM666838, GSM675265, GSM880169, a4f7e4ef-e472-420c-af0c-386c9699d923, GSM1007139, GSM1051747, GSM840663, GSM675319, GSM845941, GSM492157, GSM1052086, GSM1051956, GSM989924, 7878547f-1864-428a-a5f2-9ae05e0dae10, GSM1024958, 0593539c-58fa-49c0-a01d-9d46f0d228e9, 8b88a52d-5899-40c9-91de-764c70c131e6, e69b4a3c-578d-4ba6-93ac-ae6d452cbca0, 6e89681c-5e78-4529-9844-fb93faa95e9e, GSM1007624, e633ee26-6af0-412d-8479-ce85908e5049, GSM401727, GSM507157, GSM492301, GSM1009692, GSM951253, GSM1052091, GSM401962, GSM1051705, f953ec96-c925-4d70-9f80-23dd07f98e0b, GSM880029, GSM1088605, GSM492208, GSM897847, GSM801817, aa4eceb9-8cd0-4d1e-9cb3-86d72613abec, GSM1051711, GSM1007205, da37909e-4460-430e-897d-1f8e30916cfb, GSM1007613, GSM951170, GSM492298, GSM840780, GSM990411, ...]\n",
              "\n",
              "[1000 rows x 0 columns]"
            ],
            "text/html": [
              "\n",
              "  <div id=\"df-aa87063c-4cc4-42e4-a502-08719c880b2d\" class=\"colab-df-container\">\n",
              "    <div>\n",
              "<style scoped>\n",
              "    .dataframe tbody tr th:only-of-type {\n",
              "        vertical-align: middle;\n",
              "    }\n",
              "\n",
              "    .dataframe tbody tr th {\n",
              "        vertical-align: top;\n",
              "    }\n",
              "\n",
              "    .dataframe thead th {\n",
              "        text-align: right;\n",
              "    }\n",
              "</style>\n",
              "<table border=\"1\" class=\"dataframe\">\n",
              "  <thead>\n",
              "    <tr style=\"text-align: right;\">\n",
              "      <th></th>\n",
              "    </tr>\n",
              "  </thead>\n",
              "  <tbody>\n",
              "    <tr>\n",
              "      <th>GSM492458</th>\n",
              "    </tr>\n",
              "    <tr>\n",
              "      <th>db23dcfc-0126-49c5-9705-6e1b79fc7df1</th>\n",
              "    </tr>\n",
              "    <tr>\n",
              "      <th>GSM501517</th>\n",
              "    </tr>\n",
              "    <tr>\n",
              "      <th>GSM401855</th>\n",
              "    </tr>\n",
              "    <tr>\n",
              "      <th>GSM635685</th>\n",
              "    </tr>\n",
              "    <tr>\n",
              "      <th>...</th>\n",
              "    </tr>\n",
              "    <tr>\n",
              "      <th>GSM908395</th>\n",
              "    </tr>\n",
              "    <tr>\n",
              "      <th>GSM908467</th>\n",
              "    </tr>\n",
              "    <tr>\n",
              "      <th>GSM845995</th>\n",
              "    </tr>\n",
              "    <tr>\n",
              "      <th>GSM401863</th>\n",
              "    </tr>\n",
              "    <tr>\n",
              "      <th>GSM667334</th>\n",
              "    </tr>\n",
              "  </tbody>\n",
              "</table>\n",
              "<p>1000 rows × 0 columns</p>\n",
              "</div>\n",
              "    <div class=\"colab-df-buttons\">\n",
              "\n",
              "  <div class=\"colab-df-container\">\n",
              "    <button class=\"colab-df-convert\" onclick=\"convertToInteractive('df-aa87063c-4cc4-42e4-a502-08719c880b2d')\"\n",
              "            title=\"Convert this dataframe to an interactive table.\"\n",
              "            style=\"display:none;\">\n",
              "\n",
              "  <svg xmlns=\"http://www.w3.org/2000/svg\" height=\"24px\" viewBox=\"0 -960 960 960\">\n",
              "    <path d=\"M120-120v-720h720v720H120Zm60-500h600v-160H180v160Zm220 220h160v-160H400v160Zm0 220h160v-160H400v160ZM180-400h160v-160H180v160Zm440 0h160v-160H620v160ZM180-180h160v-160H180v160Zm440 0h160v-160H620v160Z\"/>\n",
              "  </svg>\n",
              "    </button>\n",
              "\n",
              "  <style>\n",
              "    .colab-df-container {\n",
              "      display:flex;\n",
              "      gap: 12px;\n",
              "    }\n",
              "\n",
              "    .colab-df-convert {\n",
              "      background-color: #E8F0FE;\n",
              "      border: none;\n",
              "      border-radius: 50%;\n",
              "      cursor: pointer;\n",
              "      display: none;\n",
              "      fill: #1967D2;\n",
              "      height: 32px;\n",
              "      padding: 0 0 0 0;\n",
              "      width: 32px;\n",
              "    }\n",
              "\n",
              "    .colab-df-convert:hover {\n",
              "      background-color: #E2EBFA;\n",
              "      box-shadow: 0px 1px 2px rgba(60, 64, 67, 0.3), 0px 1px 3px 1px rgba(60, 64, 67, 0.15);\n",
              "      fill: #174EA6;\n",
              "    }\n",
              "\n",
              "    .colab-df-buttons div {\n",
              "      margin-bottom: 4px;\n",
              "    }\n",
              "\n",
              "    [theme=dark] .colab-df-convert {\n",
              "      background-color: #3B4455;\n",
              "      fill: #D2E3FC;\n",
              "    }\n",
              "\n",
              "    [theme=dark] .colab-df-convert:hover {\n",
              "      background-color: #434B5C;\n",
              "      box-shadow: 0px 1px 3px 1px rgba(0, 0, 0, 0.15);\n",
              "      filter: drop-shadow(0px 1px 2px rgba(0, 0, 0, 0.3));\n",
              "      fill: #FFFFFF;\n",
              "    }\n",
              "  </style>\n",
              "\n",
              "    <script>\n",
              "      const buttonEl =\n",
              "        document.querySelector('#df-aa87063c-4cc4-42e4-a502-08719c880b2d button.colab-df-convert');\n",
              "      buttonEl.style.display =\n",
              "        google.colab.kernel.accessAllowed ? 'block' : 'none';\n",
              "\n",
              "      async function convertToInteractive(key) {\n",
              "        const element = document.querySelector('#df-aa87063c-4cc4-42e4-a502-08719c880b2d');\n",
              "        const dataTable =\n",
              "          await google.colab.kernel.invokeFunction('convertToInteractive',\n",
              "                                                    [key], {});\n",
              "        if (!dataTable) return;\n",
              "\n",
              "        const docLinkHtml = 'Like what you see? Visit the ' +\n",
              "          '<a target=\"_blank\" href=https://colab.research.google.com/notebooks/data_table.ipynb>data table notebook</a>'\n",
              "          + ' to learn more about interactive tables.';\n",
              "        element.innerHTML = '';\n",
              "        dataTable['output_type'] = 'display_data';\n",
              "        await google.colab.output.renderOutput(dataTable, element);\n",
              "        const docLink = document.createElement('div');\n",
              "        docLink.innerHTML = docLinkHtml;\n",
              "        element.appendChild(docLink);\n",
              "      }\n",
              "    </script>\n",
              "  </div>\n",
              "\n",
              "\n",
              "<div id=\"df-edfab219-d637-44f8-9152-c84ff5ac75b8\">\n",
              "  <button class=\"colab-df-quickchart\" onclick=\"quickchart('df-edfab219-d637-44f8-9152-c84ff5ac75b8')\"\n",
              "            title=\"Suggest charts\"\n",
              "            style=\"display:none;\">\n",
              "\n",
              "<svg xmlns=\"http://www.w3.org/2000/svg\" height=\"24px\"viewBox=\"0 0 24 24\"\n",
              "     width=\"24px\">\n",
              "    <g>\n",
              "        <path d=\"M19 3H5c-1.1 0-2 .9-2 2v14c0 1.1.9 2 2 2h14c1.1 0 2-.9 2-2V5c0-1.1-.9-2-2-2zM9 17H7v-7h2v7zm4 0h-2V7h2v10zm4 0h-2v-4h2v4z\"/>\n",
              "    </g>\n",
              "</svg>\n",
              "  </button>\n",
              "\n",
              "<style>\n",
              "  .colab-df-quickchart {\n",
              "      --bg-color: #E8F0FE;\n",
              "      --fill-color: #1967D2;\n",
              "      --hover-bg-color: #E2EBFA;\n",
              "      --hover-fill-color: #174EA6;\n",
              "      --disabled-fill-color: #AAA;\n",
              "      --disabled-bg-color: #DDD;\n",
              "  }\n",
              "\n",
              "  [theme=dark] .colab-df-quickchart {\n",
              "      --bg-color: #3B4455;\n",
              "      --fill-color: #D2E3FC;\n",
              "      --hover-bg-color: #434B5C;\n",
              "      --hover-fill-color: #FFFFFF;\n",
              "      --disabled-bg-color: #3B4455;\n",
              "      --disabled-fill-color: #666;\n",
              "  }\n",
              "\n",
              "  .colab-df-quickchart {\n",
              "    background-color: var(--bg-color);\n",
              "    border: none;\n",
              "    border-radius: 50%;\n",
              "    cursor: pointer;\n",
              "    display: none;\n",
              "    fill: var(--fill-color);\n",
              "    height: 32px;\n",
              "    padding: 0;\n",
              "    width: 32px;\n",
              "  }\n",
              "\n",
              "  .colab-df-quickchart:hover {\n",
              "    background-color: var(--hover-bg-color);\n",
              "    box-shadow: 0 1px 2px rgba(60, 64, 67, 0.3), 0 1px 3px 1px rgba(60, 64, 67, 0.15);\n",
              "    fill: var(--button-hover-fill-color);\n",
              "  }\n",
              "\n",
              "  .colab-df-quickchart-complete:disabled,\n",
              "  .colab-df-quickchart-complete:disabled:hover {\n",
              "    background-color: var(--disabled-bg-color);\n",
              "    fill: var(--disabled-fill-color);\n",
              "    box-shadow: none;\n",
              "  }\n",
              "\n",
              "  .colab-df-spinner {\n",
              "    border: 2px solid var(--fill-color);\n",
              "    border-color: transparent;\n",
              "    border-bottom-color: var(--fill-color);\n",
              "    animation:\n",
              "      spin 1s steps(1) infinite;\n",
              "  }\n",
              "\n",
              "  @keyframes spin {\n",
              "    0% {\n",
              "      border-color: transparent;\n",
              "      border-bottom-color: var(--fill-color);\n",
              "      border-left-color: var(--fill-color);\n",
              "    }\n",
              "    20% {\n",
              "      border-color: transparent;\n",
              "      border-left-color: var(--fill-color);\n",
              "      border-top-color: var(--fill-color);\n",
              "    }\n",
              "    30% {\n",
              "      border-color: transparent;\n",
              "      border-left-color: var(--fill-color);\n",
              "      border-top-color: var(--fill-color);\n",
              "      border-right-color: var(--fill-color);\n",
              "    }\n",
              "    40% {\n",
              "      border-color: transparent;\n",
              "      border-right-color: var(--fill-color);\n",
              "      border-top-color: var(--fill-color);\n",
              "    }\n",
              "    60% {\n",
              "      border-color: transparent;\n",
              "      border-right-color: var(--fill-color);\n",
              "    }\n",
              "    80% {\n",
              "      border-color: transparent;\n",
              "      border-right-color: var(--fill-color);\n",
              "      border-bottom-color: var(--fill-color);\n",
              "    }\n",
              "    90% {\n",
              "      border-color: transparent;\n",
              "      border-bottom-color: var(--fill-color);\n",
              "    }\n",
              "  }\n",
              "</style>\n",
              "\n",
              "  <script>\n",
              "    async function quickchart(key) {\n",
              "      const quickchartButtonEl =\n",
              "        document.querySelector('#' + key + ' button');\n",
              "      quickchartButtonEl.disabled = true;  // To prevent multiple clicks.\n",
              "      quickchartButtonEl.classList.add('colab-df-spinner');\n",
              "      try {\n",
              "        const charts = await google.colab.kernel.invokeFunction(\n",
              "            'suggestCharts', [key], {});\n",
              "      } catch (error) {\n",
              "        console.error('Error during call to suggestCharts:', error);\n",
              "      }\n",
              "      quickchartButtonEl.classList.remove('colab-df-spinner');\n",
              "      quickchartButtonEl.classList.add('colab-df-quickchart-complete');\n",
              "    }\n",
              "    (() => {\n",
              "      let quickchartButtonEl =\n",
              "        document.querySelector('#df-edfab219-d637-44f8-9152-c84ff5ac75b8 button');\n",
              "      quickchartButtonEl.style.display =\n",
              "        google.colab.kernel.accessAllowed ? 'block' : 'none';\n",
              "    })();\n",
              "  </script>\n",
              "</div>\n",
              "    </div>\n",
              "  </div>\n"
            ],
            "application/vnd.google.colaboratory.intrinsic+json": {
              "type": "dataframe",
              "variable_name": "additional_feature_importances",
              "summary": "{\n  \"name\": \"additional_feature_importances\",\n  \"rows\": 1000,\n  \"fields\": []\n}"
            }
          },
          "metadata": {},
          "execution_count": 28
        }
      ]
    },
    {
      "cell_type": "code",
      "execution_count": null,
      "id": "34991fe4-d94d-4532-90e6-3a0f75853d47",
      "metadata": {
        "id": "34991fe4-d94d-4532-90e6-3a0f75853d47"
      },
      "outputs": [],
      "source": [
        "all_imps = pd.DataFrame(columns=['Importance', 'Layer'])\n",
        "for l in layer_list_dict:\n",
        "    df_imps_t = layer_list_dict[l].reset_index()\n",
        "    df_imps_t['index2'] = df_imps_t.index\n",
        "    df_imps = df_imps_t.melt(id_vars='Sample_Barcode', var_name='Gene/Pathway', value_name='Importance').rename(columns={'index': 'Sample'})\n",
        "    df_imps['Layer'] = l\n",
        "    all_imps = pd.concat([all_imps, df_imps])\n",
        "grouped_imps = pd.DataFrame(all_imps.groupby(['Gene/Pathway', 'Layer'])['Importance'].mean().abs().reset_index())\n",
        "grouped_imps.to_csv(path_or_buf = \"xai_test.csv\")\n",
        "pd.Series.append = pd.Series._append\n",
        "test_dataset_vis = test_dataset\n",
        "test_dataset_vis.input_df.index.name = None\n"
      ]
    },
    {
      "cell_type": "code",
      "source": [
        "%cd /content/pnet/notebooks"
      ],
      "metadata": {
        "colab": {
          "base_uri": "https://localhost:8080/"
        },
        "id": "inyfiCLBrXul",
        "outputId": "c7320f28-cbd5-4a3f-9eb7-952f489fda4f"
      },
      "id": "inyfiCLBrXul",
      "execution_count": null,
      "outputs": [
        {
          "output_type": "stream",
          "name": "stdout",
          "text": [
            "/content/pnet/notebooks\n"
          ]
        }
      ]
    },
    {
      "cell_type": "code",
      "source": [
        "Pnet.evaluate_interpret_save(model, test_dataset, '../results/xai_test/')\n"
      ],
      "metadata": {
        "id": "RgmAeN23pa2T"
      },
      "id": "RgmAeN23pa2T",
      "execution_count": null,
      "outputs": []
    },
    {
      "cell_type": "code",
      "execution_count": null,
      "id": "f47fd16f-5d74-446b-953a-e6bf77699b47",
      "metadata": {
        "id": "f47fd16f-5d74-446b-953a-e6bf77699b47",
        "colab": {
          "base_uri": "https://localhost:8080/",
          "height": 542
        },
        "outputId": "e1a648f8-fbf8-4e32-8500-5f9cca254d35"
      },
      "outputs": [
        {
          "output_type": "display_data",
          "data": {
            "text/html": [
              "<html>\n",
              "<head><meta charset=\"utf-8\" /></head>\n",
              "<body>\n",
              "    <div>            <script src=\"https://cdnjs.cloudflare.com/ajax/libs/mathjax/2.7.5/MathJax.js?config=TeX-AMS-MML_SVG\"></script><script type=\"text/javascript\">if (window.MathJax && window.MathJax.Hub && window.MathJax.Hub.Config) {window.MathJax.Hub.Config({SVG: {font: \"STIX-Web\"}});}</script>                <script type=\"text/javascript\">window.PlotlyConfig = {MathJaxConfig: 'local'};</script>\n",
              "        <script charset=\"utf-8\" src=\"https://cdn.plot.ly/plotly-2.24.1.min.js\"></script>                <div id=\"3b0e7fec-797b-41f8-b494-d7c6ea933a11\" class=\"plotly-graph-div\" style=\"height:525px; width:100%;\"></div>            <script type=\"text/javascript\">                                    window.PLOTLYENV=window.PLOTLYENV || {};                                    if (document.getElementById(\"3b0e7fec-797b-41f8-b494-d7c6ea933a11\")) {                    Plotly.newPlot(                        \"3b0e7fec-797b-41f8-b494-d7c6ea933a11\",                        [{\"link\":{\"color\":[\"#FFA300\",\"#FFA300\",\"#FFA300\",\"#FFA300\",\"#FFA300\",\"#FFA300\",\"#FFA300\",\"#FFA300\",\"#FFA300\",\"#FFA300\",\"#FFA300\",\"#FFA300\",\"#FFA300\",\"#41B6E6\",\"#FFA300\",\"#FFA300\",\"#FFA300\",\"#FFA300\",\"#FFA300\",\"#FFA300\",\"#FFA300\",\"#FFA300\",\"#00629B\",\"#FFA300\",\"#FFA300\",\"#FFA300\",\"#FFA300\",\"#FFA300\",\"#FFA300\",\"#FFA300\",\"#FFA300\",\"#FFA300\",\"#00629B\",\"#FFA300\",\"#00629B\",\"#00629B\",\"#FFA300\",\"#FFA300\",\"#FFA300\",\"#FFA300\",\"#FFA300\",\"#00629B\",\"#00629B\",\"#FFA300\",\"#FFA300\",\"#FFA300\",\"#FFA300\",\"#FFA300\",\"#FFA300\",\"#FFA300\",\"#00629B\",\"#00629B\",\"#00629B\",\"#FFA300\",\"#FFA300\",\"#FFA300\",\"#FFA300\",\"#FFA300\",\"#00629B\",\"#00629B\",\"#00629B\",\"#00629B\",\"#00629B\",\"#FFA300\"],\"source\":[2,4,6,8,10,0,0,0,0,0,0,2,4,6,8,10,1,1,1,1,1,13,14,15,16,17,12,12,12,12,12,19,20,21,22,23,18,18,18,18,18,25,26,27,28,29,24,24,24,24,31,32,33,34,35,30,30,30,37,38,39,40,41,36],\"target\":[1,1,1,1,1,2,4,6,8,10,1,12,12,14,12,12,13,15,16,17,12,18,19,18,18,18,20,21,22,23,18,24,25,24,25,25,26,27,28,29,24,31,32,30,30,30,33,34,35,30,37,40,39,36,36,38,41,36,42,42,42,42,42,42],\"value\":[1.0,0.8382303296905455,0.6818988919735463,0.5482903307732477,0.4979412948365322,0.014184042233923356,0.014184042233923356,0.014184042233923356,0.014184042233923356,0.014184042233923356,0.013982683827116595,1.0,0.8499298532984185,0.6862402177856056,0.5372232413411779,0.494276928516881,0.013982683827116595,0.013982683827116595,0.013982683827116595,0.013982683827116595,0.013982683827116595,1.0,0.7454259744831165,0.399972962998799,0.3790873987241281,0.37356175278877946,0.05212568349743333,0.05212568349743333,0.05212568349743333,0.05212568349743333,0.05212568349743333,1.0,0.9767580511300438,0.7059931270670372,0.6528031422617925,0.6485736044891948,0.03354612052487413,0.03354612052487413,0.03354612052487413,0.03354612052487413,0.03354612052487413,1.0,0.6286797146173077,0.6203162461786794,0.4690893172137636,0.39064629300616455,0.04149753114694059,0.04149753114694059,0.04149753114694059,0.04149753114694059,1.0,0.6384865119612775,0.5186837784010133,0.5059452187916361,0.4003630593170351,0.08258225477678856,0.08258225477678856,0.08258225477678856,1.0,0.822220797360609,0.7350751822691617,0.7218727822170958,0.6666248464806935,0.6666248464806935]},\"node\":{\"color\":\"silver\",\"label\":[\"Residual\",\"Residual\",\"ITGA2B_cg25809905\",\"ITGA2B\",\"EDARADD_cg09809672\",\"EDARADD\",\"NDUFS5_cg07388493\",\"NDUFS5\",\"ALOX5_cg18809289\",\"ALOX5\",\"VGF_cg04084157\",\"VGF\",\"Residual\",\"Peptide ligand-binding receptors\",\"Complex I biogenesis\",\"MECP2 regulates neuronal receptors and channels\",\"Anti-inflammatory response favouring Leishmania parasite infection\",\"Myoclonic epilepsy of Lafora\",\"Residual\",\"Respiratory electron transport\",\"TP53 transc. regulation\",\"RHO GTPase cycle\",\"Transcriptional regulation by RUNX1\",\"Transcriptional regulation by RUNX3\",\"Residual\",\"Generic Transcription Pathway\",\"GPCR downstream signalling\",\"TNFR2 non-canonical NF-kB pathway\",\"rRNA processing in the nucleus and cytosol\",\"Oncogenic MAPK signaling\",\"Residual\",\"RNA Poly II transc.\",\"Signaling by GPCR\",\"Transmission across Chemical Synapses\",\"Infectious disease\",\"Cardiac conduction\",\"Residual\",\"Transcription (general)\",\"Sensory Perception\",\"Neuronal System\",\"Signal Transduction\",\"Metabolism of proteins\",\"Output\"],\"line\":{\"color\":\"black\",\"width\":0.5},\"pad\":15,\"thickness\":10},\"type\":\"sankey\"}],                        {\"template\":{\"data\":{\"histogram2dcontour\":[{\"type\":\"histogram2dcontour\",\"colorbar\":{\"outlinewidth\":0,\"ticks\":\"\"},\"colorscale\":[[0.0,\"#0d0887\"],[0.1111111111111111,\"#46039f\"],[0.2222222222222222,\"#7201a8\"],[0.3333333333333333,\"#9c179e\"],[0.4444444444444444,\"#bd3786\"],[0.5555555555555556,\"#d8576b\"],[0.6666666666666666,\"#ed7953\"],[0.7777777777777778,\"#fb9f3a\"],[0.8888888888888888,\"#fdca26\"],[1.0,\"#f0f921\"]]}],\"choropleth\":[{\"type\":\"choropleth\",\"colorbar\":{\"outlinewidth\":0,\"ticks\":\"\"}}],\"histogram2d\":[{\"type\":\"histogram2d\",\"colorbar\":{\"outlinewidth\":0,\"ticks\":\"\"},\"colorscale\":[[0.0,\"#0d0887\"],[0.1111111111111111,\"#46039f\"],[0.2222222222222222,\"#7201a8\"],[0.3333333333333333,\"#9c179e\"],[0.4444444444444444,\"#bd3786\"],[0.5555555555555556,\"#d8576b\"],[0.6666666666666666,\"#ed7953\"],[0.7777777777777778,\"#fb9f3a\"],[0.8888888888888888,\"#fdca26\"],[1.0,\"#f0f921\"]]}],\"heatmap\":[{\"type\":\"heatmap\",\"colorbar\":{\"outlinewidth\":0,\"ticks\":\"\"},\"colorscale\":[[0.0,\"#0d0887\"],[0.1111111111111111,\"#46039f\"],[0.2222222222222222,\"#7201a8\"],[0.3333333333333333,\"#9c179e\"],[0.4444444444444444,\"#bd3786\"],[0.5555555555555556,\"#d8576b\"],[0.6666666666666666,\"#ed7953\"],[0.7777777777777778,\"#fb9f3a\"],[0.8888888888888888,\"#fdca26\"],[1.0,\"#f0f921\"]]}],\"heatmapgl\":[{\"type\":\"heatmapgl\",\"colorbar\":{\"outlinewidth\":0,\"ticks\":\"\"},\"colorscale\":[[0.0,\"#0d0887\"],[0.1111111111111111,\"#46039f\"],[0.2222222222222222,\"#7201a8\"],[0.3333333333333333,\"#9c179e\"],[0.4444444444444444,\"#bd3786\"],[0.5555555555555556,\"#d8576b\"],[0.6666666666666666,\"#ed7953\"],[0.7777777777777778,\"#fb9f3a\"],[0.8888888888888888,\"#fdca26\"],[1.0,\"#f0f921\"]]}],\"contourcarpet\":[{\"type\":\"contourcarpet\",\"colorbar\":{\"outlinewidth\":0,\"ticks\":\"\"}}],\"contour\":[{\"type\":\"contour\",\"colorbar\":{\"outlinewidth\":0,\"ticks\":\"\"},\"colorscale\":[[0.0,\"#0d0887\"],[0.1111111111111111,\"#46039f\"],[0.2222222222222222,\"#7201a8\"],[0.3333333333333333,\"#9c179e\"],[0.4444444444444444,\"#bd3786\"],[0.5555555555555556,\"#d8576b\"],[0.6666666666666666,\"#ed7953\"],[0.7777777777777778,\"#fb9f3a\"],[0.8888888888888888,\"#fdca26\"],[1.0,\"#f0f921\"]]}],\"surface\":[{\"type\":\"surface\",\"colorbar\":{\"outlinewidth\":0,\"ticks\":\"\"},\"colorscale\":[[0.0,\"#0d0887\"],[0.1111111111111111,\"#46039f\"],[0.2222222222222222,\"#7201a8\"],[0.3333333333333333,\"#9c179e\"],[0.4444444444444444,\"#bd3786\"],[0.5555555555555556,\"#d8576b\"],[0.6666666666666666,\"#ed7953\"],[0.7777777777777778,\"#fb9f3a\"],[0.8888888888888888,\"#fdca26\"],[1.0,\"#f0f921\"]]}],\"mesh3d\":[{\"type\":\"mesh3d\",\"colorbar\":{\"outlinewidth\":0,\"ticks\":\"\"}}],\"scatter\":[{\"fillpattern\":{\"fillmode\":\"overlay\",\"size\":10,\"solidity\":0.2},\"type\":\"scatter\"}],\"parcoords\":[{\"type\":\"parcoords\",\"line\":{\"colorbar\":{\"outlinewidth\":0,\"ticks\":\"\"}}}],\"scatterpolargl\":[{\"type\":\"scatterpolargl\",\"marker\":{\"colorbar\":{\"outlinewidth\":0,\"ticks\":\"\"}}}],\"bar\":[{\"error_x\":{\"color\":\"#2a3f5f\"},\"error_y\":{\"color\":\"#2a3f5f\"},\"marker\":{\"line\":{\"color\":\"#E5ECF6\",\"width\":0.5},\"pattern\":{\"fillmode\":\"overlay\",\"size\":10,\"solidity\":0.2}},\"type\":\"bar\"}],\"scattergeo\":[{\"type\":\"scattergeo\",\"marker\":{\"colorbar\":{\"outlinewidth\":0,\"ticks\":\"\"}}}],\"scatterpolar\":[{\"type\":\"scatterpolar\",\"marker\":{\"colorbar\":{\"outlinewidth\":0,\"ticks\":\"\"}}}],\"histogram\":[{\"marker\":{\"pattern\":{\"fillmode\":\"overlay\",\"size\":10,\"solidity\":0.2}},\"type\":\"histogram\"}],\"scattergl\":[{\"type\":\"scattergl\",\"marker\":{\"colorbar\":{\"outlinewidth\":0,\"ticks\":\"\"}}}],\"scatter3d\":[{\"type\":\"scatter3d\",\"line\":{\"colorbar\":{\"outlinewidth\":0,\"ticks\":\"\"}},\"marker\":{\"colorbar\":{\"outlinewidth\":0,\"ticks\":\"\"}}}],\"scattermapbox\":[{\"type\":\"scattermapbox\",\"marker\":{\"colorbar\":{\"outlinewidth\":0,\"ticks\":\"\"}}}],\"scatterternary\":[{\"type\":\"scatterternary\",\"marker\":{\"colorbar\":{\"outlinewidth\":0,\"ticks\":\"\"}}}],\"scattercarpet\":[{\"type\":\"scattercarpet\",\"marker\":{\"colorbar\":{\"outlinewidth\":0,\"ticks\":\"\"}}}],\"carpet\":[{\"aaxis\":{\"endlinecolor\":\"#2a3f5f\",\"gridcolor\":\"white\",\"linecolor\":\"white\",\"minorgridcolor\":\"white\",\"startlinecolor\":\"#2a3f5f\"},\"baxis\":{\"endlinecolor\":\"#2a3f5f\",\"gridcolor\":\"white\",\"linecolor\":\"white\",\"minorgridcolor\":\"white\",\"startlinecolor\":\"#2a3f5f\"},\"type\":\"carpet\"}],\"table\":[{\"cells\":{\"fill\":{\"color\":\"#EBF0F8\"},\"line\":{\"color\":\"white\"}},\"header\":{\"fill\":{\"color\":\"#C8D4E3\"},\"line\":{\"color\":\"white\"}},\"type\":\"table\"}],\"barpolar\":[{\"marker\":{\"line\":{\"color\":\"#E5ECF6\",\"width\":0.5},\"pattern\":{\"fillmode\":\"overlay\",\"size\":10,\"solidity\":0.2}},\"type\":\"barpolar\"}],\"pie\":[{\"automargin\":true,\"type\":\"pie\"}]},\"layout\":{\"autotypenumbers\":\"strict\",\"colorway\":[\"#636efa\",\"#EF553B\",\"#00cc96\",\"#ab63fa\",\"#FFA15A\",\"#19d3f3\",\"#FF6692\",\"#B6E880\",\"#FF97FF\",\"#FECB52\"],\"font\":{\"color\":\"#2a3f5f\"},\"hovermode\":\"closest\",\"hoverlabel\":{\"align\":\"left\"},\"paper_bgcolor\":\"white\",\"plot_bgcolor\":\"#E5ECF6\",\"polar\":{\"bgcolor\":\"#E5ECF6\",\"angularaxis\":{\"gridcolor\":\"white\",\"linecolor\":\"white\",\"ticks\":\"\"},\"radialaxis\":{\"gridcolor\":\"white\",\"linecolor\":\"white\",\"ticks\":\"\"}},\"ternary\":{\"bgcolor\":\"#E5ECF6\",\"aaxis\":{\"gridcolor\":\"white\",\"linecolor\":\"white\",\"ticks\":\"\"},\"baxis\":{\"gridcolor\":\"white\",\"linecolor\":\"white\",\"ticks\":\"\"},\"caxis\":{\"gridcolor\":\"white\",\"linecolor\":\"white\",\"ticks\":\"\"}},\"coloraxis\":{\"colorbar\":{\"outlinewidth\":0,\"ticks\":\"\"}},\"colorscale\":{\"sequential\":[[0.0,\"#0d0887\"],[0.1111111111111111,\"#46039f\"],[0.2222222222222222,\"#7201a8\"],[0.3333333333333333,\"#9c179e\"],[0.4444444444444444,\"#bd3786\"],[0.5555555555555556,\"#d8576b\"],[0.6666666666666666,\"#ed7953\"],[0.7777777777777778,\"#fb9f3a\"],[0.8888888888888888,\"#fdca26\"],[1.0,\"#f0f921\"]],\"sequentialminus\":[[0.0,\"#0d0887\"],[0.1111111111111111,\"#46039f\"],[0.2222222222222222,\"#7201a8\"],[0.3333333333333333,\"#9c179e\"],[0.4444444444444444,\"#bd3786\"],[0.5555555555555556,\"#d8576b\"],[0.6666666666666666,\"#ed7953\"],[0.7777777777777778,\"#fb9f3a\"],[0.8888888888888888,\"#fdca26\"],[1.0,\"#f0f921\"]],\"diverging\":[[0,\"#8e0152\"],[0.1,\"#c51b7d\"],[0.2,\"#de77ae\"],[0.3,\"#f1b6da\"],[0.4,\"#fde0ef\"],[0.5,\"#f7f7f7\"],[0.6,\"#e6f5d0\"],[0.7,\"#b8e186\"],[0.8,\"#7fbc41\"],[0.9,\"#4d9221\"],[1,\"#276419\"]]},\"xaxis\":{\"gridcolor\":\"white\",\"linecolor\":\"white\",\"ticks\":\"\",\"title\":{\"standoff\":15},\"zerolinecolor\":\"white\",\"automargin\":true,\"zerolinewidth\":2},\"yaxis\":{\"gridcolor\":\"white\",\"linecolor\":\"white\",\"ticks\":\"\",\"title\":{\"standoff\":15},\"zerolinecolor\":\"white\",\"automargin\":true,\"zerolinewidth\":2},\"scene\":{\"xaxis\":{\"backgroundcolor\":\"#E5ECF6\",\"gridcolor\":\"white\",\"linecolor\":\"white\",\"showbackground\":true,\"ticks\":\"\",\"zerolinecolor\":\"white\",\"gridwidth\":2},\"yaxis\":{\"backgroundcolor\":\"#E5ECF6\",\"gridcolor\":\"white\",\"linecolor\":\"white\",\"showbackground\":true,\"ticks\":\"\",\"zerolinecolor\":\"white\",\"gridwidth\":2},\"zaxis\":{\"backgroundcolor\":\"#E5ECF6\",\"gridcolor\":\"white\",\"linecolor\":\"white\",\"showbackground\":true,\"ticks\":\"\",\"zerolinecolor\":\"white\",\"gridwidth\":2}},\"shapedefaults\":{\"line\":{\"color\":\"#2a3f5f\"}},\"annotationdefaults\":{\"arrowcolor\":\"#2a3f5f\",\"arrowhead\":0,\"arrowwidth\":1},\"geo\":{\"bgcolor\":\"white\",\"landcolor\":\"#E5ECF6\",\"subunitcolor\":\"white\",\"showland\":true,\"showlakes\":true,\"lakecolor\":\"white\"},\"title\":{\"x\":0.05},\"mapbox\":{\"style\":\"light\"}}},\"font\":{\"size\":10}},                        {\"responsive\": true}                    ).then(function(){\n",
              "                            \n",
              "var gd = document.getElementById('3b0e7fec-797b-41f8-b494-d7c6ea933a11');\n",
              "var x = new MutationObserver(function (mutations, observer) {{\n",
              "        var display = window.getComputedStyle(gd).display;\n",
              "        if (!display || display === 'none') {{\n",
              "            console.log([gd, 'removed!']);\n",
              "            Plotly.purge(gd);\n",
              "            observer.disconnect();\n",
              "        }}\n",
              "}});\n",
              "\n",
              "// Listen for the removal of the full notebook cells\n",
              "var notebookContainer = gd.closest('#notebook-container');\n",
              "if (notebookContainer) {{\n",
              "    x.observe(notebookContainer, {childList: true});\n",
              "}}\n",
              "\n",
              "// Listen for the clearing of the current output cell\n",
              "var outputEl = gd.closest('.output');\n",
              "if (outputEl) {{\n",
              "    x.observe(outputEl, {childList: true});\n",
              "}}\n",
              "\n",
              "                        })                };                            </script>        </div>\n",
              "</body>\n",
              "</html>"
            ]
          },
          "metadata": {}
        }
      ],
      "source": [
        "savepath = '../results/xai_test.html'\n",
        "sk = sankey_diag.SankeyDiag(imps = \"../results/xai_test/\", runs=1,target = None) # If you want more nodes, change it (self.nbr_displayed = 5) in the /content/pnet/src/util/sankey_diag.py file (will be implemented later in a nicer way)\n",
        "fig = sk.get_sankey_diag(savepath)"
      ]
    }
  ],
  "metadata": {
    "accelerator": "GPU",
    "colab": {
      "gpuType": "T4",
      "machine_shape": "hm",
      "provenance": []
    },
    "environment": {
      "kernel": "conda-root-py",
      "name": "pytorch-gpu.1-10.m90",
      "type": "gcloud",
      "uri": "gcr.io/deeplearning-platform-release/pytorch-gpu.1-10:m90"
    },
    "kernelspec": {
      "display_name": "Python (pnetv)",
      "language": "python",
      "name": "pnetv"
    },
    "language_info": {
      "codemirror_mode": {
        "name": "ipython",
        "version": 3
      },
      "file_extension": ".py",
      "mimetype": "text/x-python",
      "name": "python",
      "nbconvert_exporter": "python",
      "pygments_lexer": "ipython3",
      "version": "3.12.1"
    }
  },
  "nbformat": 4,
  "nbformat_minor": 5
}